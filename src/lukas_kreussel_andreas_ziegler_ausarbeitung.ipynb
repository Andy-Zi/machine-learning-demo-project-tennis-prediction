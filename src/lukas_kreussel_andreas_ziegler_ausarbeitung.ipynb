version https://git-lfs.github.com/spec/v1
oid sha256:ba0ac9d8365ea9686476228efa0b0daf108238d61a746ce743b95db5d51cda4b
size 719531
