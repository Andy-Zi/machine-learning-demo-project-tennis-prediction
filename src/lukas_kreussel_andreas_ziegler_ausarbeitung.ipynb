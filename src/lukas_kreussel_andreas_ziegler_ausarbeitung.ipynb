version https://git-lfs.github.com/spec/v1
oid sha256:422eb26ea3521c9e9fcf700bae7f89d7f06b9787e31899503597c0b87f9a99b0
size 868881
