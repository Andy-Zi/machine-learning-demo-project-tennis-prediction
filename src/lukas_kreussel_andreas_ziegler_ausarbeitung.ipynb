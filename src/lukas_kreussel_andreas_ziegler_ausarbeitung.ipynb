version https://git-lfs.github.com/spec/v1
oid sha256:dc3e2afd20fe96f4e464c00f035f8aefa9b6e3c64d0ea5b482992e4a1a449738
size 141351
