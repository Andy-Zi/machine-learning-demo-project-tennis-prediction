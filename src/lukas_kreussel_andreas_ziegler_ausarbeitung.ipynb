version https://git-lfs.github.com/spec/v1
oid sha256:290e7ce230955c12b4cf34b9c9542b877501f3df110aad2e696543abc6424bb7
size 169055
