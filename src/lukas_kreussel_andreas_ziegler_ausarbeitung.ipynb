version https://git-lfs.github.com/spec/v1
oid sha256:f327d777730d1394d019dce8ff3b40bea4d4321b15653bb9ffe5c10e9b77b98d
size 717635
