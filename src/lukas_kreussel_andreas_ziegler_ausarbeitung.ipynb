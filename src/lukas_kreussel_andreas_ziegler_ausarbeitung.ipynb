version https://git-lfs.github.com/spec/v1
oid sha256:4fabfdb880c5702171150e36d54986ed7b0e2c92a05c7d6358e03f748c5e02d3
size 151389
