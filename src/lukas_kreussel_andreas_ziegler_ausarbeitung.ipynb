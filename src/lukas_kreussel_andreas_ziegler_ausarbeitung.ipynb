version https://git-lfs.github.com/spec/v1
oid sha256:e9d0851551d94e39b1d0b32de65a39889210ebd979c43b5609711ec3c9bca78d
size 810
