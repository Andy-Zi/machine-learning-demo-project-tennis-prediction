version https://git-lfs.github.com/spec/v1
oid sha256:66716362c02a140af06ae38ef793d7a112be87719e817a6dbb691ffd05294542
size 574409
