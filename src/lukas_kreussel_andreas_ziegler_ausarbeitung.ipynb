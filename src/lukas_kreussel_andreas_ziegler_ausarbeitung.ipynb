version https://git-lfs.github.com/spec/v1
oid sha256:8fd07e63dd3df4a58a84fa9f5cc5eabf7b34fac7dc6a3718597fe7b118f2a2d9
size 10728916
