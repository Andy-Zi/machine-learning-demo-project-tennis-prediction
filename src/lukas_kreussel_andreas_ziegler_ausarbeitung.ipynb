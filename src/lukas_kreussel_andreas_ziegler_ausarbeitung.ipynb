version https://git-lfs.github.com/spec/v1
oid sha256:9d50ffed7d44866be0ccb18901a94b133b3ceabb438d934166d5d0e2defaad76
size 721780
